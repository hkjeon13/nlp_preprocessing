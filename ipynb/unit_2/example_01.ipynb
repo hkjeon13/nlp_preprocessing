{
 "cells": [
  {
   "cell_type": "code",
   "execution_count": 6,
   "metadata": {},
   "outputs": [],
   "source": [
    "from bs4 import BeautifulSoup"
   ]
  },
  {
   "cell_type": "code",
   "execution_count": 2,
   "metadata": {},
   "outputs": [],
   "source": [
    "html_text ='''\n",
    "<html><body>\n",
    "<h1 id=\"title\">자연어처리 입문 강의</h1>\n",
    "<p id=\"contents\">코드 구현을 중심으로 진행합니다.</p>\n",
    "</body></html>\n",
    "'''"
   ]
  },
  {
   "cell_type": "code",
   "execution_count": 3,
   "metadata": {},
   "outputs": [],
   "source": [
    "soup = BeautifulSoup(html_text, 'lxml')"
   ]
  },
  {
   "cell_type": "code",
   "execution_count": 4,
   "metadata": {
    "scrolled": false
   },
   "outputs": [
    {
     "name": "stdout",
     "output_type": "stream",
     "text": [
      "html:\n",
      "<html><body>\n",
      "<h1 id=\"title\">자연어처리 입문 강의</h1>\n",
      "<p id=\"contents\">코드 구현을 중심으로 진행합니다.</p>\n",
      "</body></html>\n",
      "----------------------\n",
      "body:\n",
      "<body>\n",
      "<h1 id=\"title\">자연어처리 입문 강의</h1>\n",
      "<p id=\"contents\">코드 구현을 중심으로 진행합니다.</p>\n",
      "</body>\n",
      "----------------------\n",
      "h1:<h1 id=\"title\">자연어처리 입문 강의</h1>\n",
      "h1_content:자연어처리 입문 강의\n"
     ]
    }
   ],
   "source": [
    "print(f'html:\\n{soup.html}')\n",
    "print('----------------------')\n",
    "print(f'body:\\n{soup.html.body}')\n",
    "print('----------------------')\n",
    "print(f'h1:{soup.html.body.h1}')\n",
    "print(f'h1_content:{soup.html.body.h1.string}')"
   ]
  }
 ],
 "metadata": {
  "kernelspec": {
   "display_name": "env1",
   "language": "python",
   "name": "env1"
  },
  "language_info": {
   "codemirror_mode": {
    "name": "ipython",
    "version": 3
   },
   "file_extension": ".py",
   "mimetype": "text/x-python",
   "name": "python",
   "nbconvert_exporter": "python",
   "pygments_lexer": "ipython3",
   "version": "3.6.10"
  }
 },
 "nbformat": 4,
 "nbformat_minor": 4
}
