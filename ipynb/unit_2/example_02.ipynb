{
 "cells": [
  {
   "cell_type": "code",
   "execution_count": 1,
   "metadata": {},
   "outputs": [],
   "source": [
    "from bs4 import BeautifulSoup\n",
    "import urllib.request as req"
   ]
  },
  {
   "cell_type": "code",
   "execution_count": 2,
   "metadata": {},
   "outputs": [],
   "source": [
    "url = 'https://learningspoons.com/'"
   ]
  },
  {
   "cell_type": "code",
   "execution_count": 3,
   "metadata": {
    "scrolled": true
   },
   "outputs": [
    {
     "name": "stdout",
     "output_type": "stream",
     "text": [
      "0 <a class=\"nav-top-link nav-top-not-logged-in is-small\" href=\"https://learningspoons.com/account\"> <span> 로그인     / 회원가입 </span> </a>\n",
      "1 <a class=\"account-link-mobile is-small\" href=\"https://learningspoons.com/account\" title=\"내 계정\"> <i class=\"icon-user\"></i> </a>\n",
      "2 <a class=\"nav-top-link nav-top-not-logged-in\" href=\"https://learningspoons.com/account\"> <span class=\"header-account-title\"> 로그인 </span> </a>\n"
     ]
    }
   ],
   "source": [
    "with req.urlopen(url) as res:\n",
    "    soup = BeautifulSoup(res, 'lxml')\n",
    "    results = soup.select('li > a[href=\"https://learningspoons.com/account\"]')\n",
    "    for idx,result in enumerate(results):\n",
    "        \n",
    "        print(idx, result)"
   ]
  },
  {
   "cell_type": "code",
   "execution_count": null,
   "metadata": {},
   "outputs": [],
   "source": []
  }
 ],
 "metadata": {
  "kernelspec": {
   "display_name": "env1",
   "language": "python",
   "name": "env1"
  },
  "language_info": {
   "codemirror_mode": {
    "name": "ipython",
    "version": 3
   },
   "file_extension": ".py",
   "mimetype": "text/x-python",
   "name": "python",
   "nbconvert_exporter": "python",
   "pygments_lexer": "ipython3",
   "version": "3.6.10"
  }
 },
 "nbformat": 4,
 "nbformat_minor": 4
}
