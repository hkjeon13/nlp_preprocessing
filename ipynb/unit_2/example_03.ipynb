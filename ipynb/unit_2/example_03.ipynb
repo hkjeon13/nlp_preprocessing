{
 "cells": [
  {
   "cell_type": "code",
   "execution_count": 1,
   "metadata": {},
   "outputs": [],
   "source": [
    "from bs4 import BeautifulSoup\n",
    "import urllib.request as req"
   ]
  },
  {
   "cell_type": "code",
   "execution_count": 2,
   "metadata": {},
   "outputs": [],
   "source": [
    "url = 'https://online.learningspoons.com/'"
   ]
  },
  {
   "cell_type": "code",
   "execution_count": 3,
   "metadata": {},
   "outputs": [
    {
     "name": "stdout",
     "output_type": "stream",
     "text": [
      "강의명:쉽게 따라하는 프리미어 프로 : 유튜브 영상편집 마스터\n",
      "강의명:비전공자/입문자를 위한 AI 비즈니스 이해 및 케이스 스터디\n",
      "강의명:칼퇴를 부르는 필수 업무 스킬, 실무 엑셀!\n",
      "강의명:엑셀 VBA를 활용한 업무 자동화\n",
      "강의명:대기업도 반한 템플릿 제작자의 PPT 기초 & 디자인\n",
      "강의명:주식거래 시스템 구축 저자와 함께하는 북콘서트\n",
      "강의명:파이썬을 활용한 주식 자동매매 프로그램 만들기\n",
      "강의명:월 매출 5억의 운영자가 알려주는 스마트스토어 실전 마케팅 전략\n",
      "강의명:돈 버는 투자자가 되는 재무제표 분석 기초 & 실전\n",
      "강의명:펀드매니저에게 배우는 팩터 인베스팅\n",
      "강의명:월 매출 5억의 운영자가 알려주는 스마트스토어 실전 마케팅 전략\n",
      "강의명:해외선물 자동매매 스캘핑 시스템 구축하기\n",
      "강의명:파이썬으로 배우는 금융공학/퀀트\n",
      "강의명:파이썬 금융 프로그래밍 온라인 부트캠프\n",
      "강의명:애자일 방법론\n",
      "강의명:파이썬을 활용한 주식 자동매매 프로그램 만들기\n",
      "강의명:영상편집의 금손이 되는 프리미어/애프터이펙트 실전\n",
      "강의명:월급 두 번 받는 직장인 되기! 부동산 재테크 패키지\n",
      "강의명:대기업도 반한 템플릿 제작자의 PPT 기초 & 디자인\n",
      "강의명:수익모델을 만드는 에어비앤비 창업과 운영\n",
      "강의명:칼퇴를 부르는 필수 업무 스킬, 실무 엑셀!\n",
      "강의명:엑셀 VBA를 활용한 업무 자동화\n",
      "강의명:부동산 투잡/창업 패키지 Airbnb + 쉐어하우스\n",
      "강의명:부동산 투자 패키지 소액 투자 입문 + 절세 전략\n",
      "강의명:주식거래 시스템 구축 저자와 함께하는 북콘서트\n",
      "강의명:비전공자/입문자를 위한 AI 비즈니스 이해 및 케이스 스터디\n",
      "강의명:부동산 투잡 첫걸음 : 소액으로 시작하는 부동산 투자 입문반\n",
      "강의명:집 없이도 월세 받는 쉐어하우스 재테크\n",
      "강의명:수익률 2배로 올려주는 부동산 절세의 모든 것\n",
      "강의명:쉽게 따라하는 프리미어 프로 : 유튜브 영상편집 마스터\n",
      "강의명:엑셀을 활용한 퀀트 투자 전략 입문\n",
      "강의명:부장님께 사랑받는 신입사원 필수 스킬! 실무엑셀 + PPT\n",
      "강의명:회계 왕초보 탈출반\n",
      "강의명:디자인 씽킹 방법론\n",
      "강의명:실무에서 바로 써먹는 포토샵/일러스트/인디자인\n",
      "강의명:엑셀을 활용한 자산배분 퀀트 투자 전략\n",
      "강의명:어도비 디자인/영상편집 마스터 패키지\n",
      "강의명:퀀트 투자 마스터 패키지\n"
     ]
    }
   ],
   "source": [
    "with req.urlopen(url) as res:\n",
    "    soup = BeautifulSoup(res, 'lxml')\n",
    "    results = soup.select('h2[class=\"bb-course-title\"] > a')\n",
    "    for result in results:\n",
    "        print(f'강의명:{result.string}')"
   ]
  }
 ],
 "metadata": {
  "kernelspec": {
   "display_name": "env1",
   "language": "python",
   "name": "env1"
  },
  "language_info": {
   "codemirror_mode": {
    "name": "ipython",
    "version": 3
   },
   "file_extension": ".py",
   "mimetype": "text/x-python",
   "name": "python",
   "nbconvert_exporter": "python",
   "pygments_lexer": "ipython3",
   "version": "3.6.10"
  }
 },
 "nbformat": 4,
 "nbformat_minor": 4
}
