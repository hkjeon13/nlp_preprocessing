{
 "cells": [
  {
   "cell_type": "code",
   "execution_count": 7,
   "metadata": {},
   "outputs": [],
   "source": [
    "from selenium import webdriver"
   ]
  },
  {
   "cell_type": "code",
   "execution_count": 2,
   "metadata": {},
   "outputs": [],
   "source": [
    "PATH = './chromedriver/chromedriver.exe'\n",
    "driver = webdriver.Chrome(PATH)\n",
    "driver.get('https://online.learningspoons.com')"
   ]
  },
  {
   "cell_type": "code",
   "execution_count": 8,
   "metadata": {},
   "outputs": [],
   "source": [
    "def click_login(driver):\n",
    "    LINK = \"https://learningspoons.com/account\"\n",
    "    element = driver.find_element_by_css_selector(f'a[href=\"{LINK}\"]')\n",
    "    element.click()\n",
    "    return driver"
   ]
  },
  {
   "cell_type": "code",
   "execution_count": 23,
   "metadata": {},
   "outputs": [],
   "source": [
    "PATH = './chromedriver/chromedriver.exe'\n",
    "driver = webdriver.Chrome(PATH)\n",
    "driver.get('https://learningspoons.com')\n",
    "driver = click_login(driver)"
   ]
  },
  {
   "cell_type": "code",
   "execution_count": 24,
   "metadata": {},
   "outputs": [],
   "source": [
    "from selenium.webdriver.common.action_chains import ActionChains\n",
    "from selenium.webdriver.common.keys import Keys # https://www.selenium.dev/selenium/docs/api/py/webdriver/selenium.webdriver.common.keys.html\n",
    "\n",
    "def write_login_info(driver,form):# {'id':<값>, 'pw':<값>}\n",
    "    element_id = driver.find_element_by_css_selector('input[data-key=\"username\"]')\n",
    "    element_pw = driver.find_element_by_css_selector('input[data-key=\"user_password\"]')\n",
    "    element_id.send_keys(form['id'])\n",
    "    element_pw.send_keys(form['pw'])\n",
    "    ActionChains(driver).send_keys(Keys.RETURN).perform()\n",
    "    return driver"
   ]
  },
  {
   "cell_type": "code",
   "execution_count": 25,
   "metadata": {},
   "outputs": [],
   "source": [
    "def login_learning_spoons():\n",
    "    PATH = './chromedriver/chromedriver.exe'\n",
    "    driver = webdriver.Chrome(PATH)\n",
    "    driver.get('https://learningspoons.com')\n",
    "    driver = click_login(driver)\n",
    "    form = {'id':'hkjeon13', 'pw':'sherry48691!'}\n",
    "    driver = write_login_info(driver, form)"
   ]
  },
  {
   "cell_type": "code",
   "execution_count": null,
   "metadata": {},
   "outputs": [],
   "source": [
    "login_learning_spoons()"
   ]
  }
 ],
 "metadata": {
  "kernelspec": {
   "display_name": "env1",
   "language": "python",
   "name": "env1"
  },
  "language_info": {
   "codemirror_mode": {
    "name": "ipython",
    "version": 3
   },
   "file_extension": ".py",
   "mimetype": "text/x-python",
   "name": "python",
   "nbconvert_exporter": "python",
   "pygments_lexer": "ipython3",
   "version": "3.6.10"
  }
 },
 "nbformat": 4,
 "nbformat_minor": 4
}
