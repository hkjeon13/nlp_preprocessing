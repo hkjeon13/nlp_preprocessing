{
 "cells": [
  {
   "cell_type": "code",
   "execution_count": 1,
   "metadata": {},
   "outputs": [],
   "source": [
    "from selenium import webdriver\n",
    "import random as rd"
   ]
  },
  {
   "cell_type": "code",
   "execution_count": 2,
   "metadata": {},
   "outputs": [],
   "source": [
    "def get_driver(path_engine, options=None):\n",
    "    driver = webdriver.Chrome(path_engine, options=options)\n",
    "    return driver\n",
    "\n",
    "def get_url(driver, url):\n",
    "    driver.get(url)\n",
    "    return driver"
   ]
  },
  {
   "cell_type": "code",
   "execution_count": 3,
   "metadata": {},
   "outputs": [],
   "source": [
    "def set_options():\n",
    "    window_sizes = [(1280,1024),(1600,1200),(1920,1440),(1920,1080),(2560,1600),(3840,2400)]\n",
    "    options = webdriver.ChromeOptions()\n",
    "    options.add_argument('headless') # 웹을 보이지 않게 실행(headless)\n",
    "    options.add_argument('window-size={}x{}'.format(*window_sizes[rd.randint(0,len(window_sizes)-1)])) #창 크기 설정\n",
    "    options.add_argument(\"disable-gpu\") #gpu설정\n",
    "    options.add_argument(\"lang=ko_KR\") #언어 설정\n",
    "    return options"
   ]
  },
  {
   "cell_type": "code",
   "execution_count": 4,
   "metadata": {},
   "outputs": [],
   "source": [
    "def get_info(driver):\n",
    "    output=[]\n",
    "    elements = driver.find_elements_by_css_selector('h3[class=\"Maw(160px)\"]')\n",
    "    for e in elements:\n",
    "        _a = e.find_element_by_css_selector('a').text\n",
    "        _span = e.find_element_by_css_selector('span').text\n",
    "        output.append((_a, _span))\n",
    "    \n",
    "    elements2 = driver.find_elements_by_css_selector('tr[class=\"dt-row Bgc($hoverBgColor):h BdB Bdbc($seperatorColor) H(44px) \"]')\n",
    "    for e2 in elements2:\n",
    "        _item = e2.find_element_by_css_selector('td[class=\"Va(t) Fz(14px) Whs(nw) Py(6px) Ta(start) Start(0) Pend(10px)\"] > p').text\n",
    "        _value = e2.find_element_by_css_selector('td[class=\"Va(t) Fz(14px) Whs(nw) Ta(end) Pstart(10px) Py(6px)\"] > span').text\n",
    "        output.append((_item, _value))\n",
    "    return driver, output"
   ]
  },
  {
   "cell_type": "code",
   "execution_count": 5,
   "metadata": {},
   "outputs": [
    {
     "name": "stdout",
     "output_type": "stream",
     "text": [
      "S&P 500 3,271.12\n",
      "Dow 30 26,428.32\n",
      "Nasdaq 10,745.27\n",
      "Bitcoin USD 11,631.10\n",
      "Ethereum USD 356.09\n",
      "XRP USD 0.2697\n",
      "Tether USD 0.9986\n",
      "Bitcoin Cash USD 309.34\n",
      "Bitcoin USD 11,631.10\n",
      "S&P 500 3,271.12\n",
      "Dow Jones Industrial Average 26,428.32\n",
      "NASDAQ Composite 10,745.27\n",
      "XRP USD 0.2697\n",
      "General Electric Company 6.07\n",
      "Nokia Corporation 4.7800\n",
      "Pinterest, Inc. 34.29\n",
      "Ford Motor Company 6.61\n",
      "Apple Inc. 425.04\n",
      "Pinterest, Inc. 34.29\n",
      "Grupo Financiero Inbursa, S.A.B. de C.V. 0.7009\n",
      "Goosehead Insurance, Inc 103.33\n",
      "Kinsale Capital Group, Inc. 194.90\n",
      "Brooks Automation, Inc. 54.45\n",
      "Hill-Rom Holdings, Inc. 97.22\n",
      "XPO Logistics, Inc. 75.02\n",
      "PT Kalbe Farma Tbk. 0.0910\n",
      "OPKO Health, Inc. 5.15\n",
      "Shake Shack Inc. 48.55\n",
      "WisdomTree U.S. ESG Fund 28.83\n",
      "ProShares Ultra QQQ 169.68\n",
      "iShares MSCI Global Gold Miners ETF 35.55\n",
      "Fidelity MSCI Information Technology Index ETF 87.22\n",
      "Vanguard Information Technology Index Fund ETF Shares 295.27\n",
      "BTC/USD 11,631.1035\n",
      "ETH/USD 356.0894\n",
      "EUR/USD 1.1776\n",
      "USD/JPY 105.9220\n",
      "GBP/USD 1.3083\n",
      "E-Mini S&P 500 Sep 20 3,269.50\n",
      "Mini Dow Jones Indus.-$5 Sep 20 26,378.00\n",
      "Nasdaq 100 Sep 20 10,914.25\n",
      "E-mini Russell 2000 Index Futur 1,479.50\n",
      "U.S. Treasury Bond Futures,Sep- 182.44\n",
      "VALEE ON 60,50 4.7800\n",
      "PETR PN 24,41 8.25\n",
      "F Jan 2021 10.000 call 0.1000\n"
     ]
    }
   ],
   "source": [
    "CHROME = './chromedriver/chromedriver.exe'\n",
    "URL = 'https://finance.yahoo.com/'\n",
    "driver = get_driver(CHROME, options=set_options())\n",
    "driver = get_url(driver, URL)\n",
    "driver, info = get_info(driver)\n",
    "for _info in info:\n",
    "    print(_info[0], _info[1])"
   ]
  },
  {
   "cell_type": "code",
   "execution_count": null,
   "metadata": {},
   "outputs": [],
   "source": []
  }
 ],
 "metadata": {
  "kernelspec": {
   "display_name": "env1",
   "language": "python",
   "name": "env1"
  },
  "language_info": {
   "codemirror_mode": {
    "name": "ipython",
    "version": 3
   },
   "file_extension": ".py",
   "mimetype": "text/x-python",
   "name": "python",
   "nbconvert_exporter": "python",
   "pygments_lexer": "ipython3",
   "version": "3.6.10"
  }
 },
 "nbformat": 4,
 "nbformat_minor": 4
}
