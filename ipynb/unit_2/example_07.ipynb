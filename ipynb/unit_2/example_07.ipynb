{
 "cells": [
  {
   "cell_type": "code",
   "execution_count": 2,
   "metadata": {},
   "outputs": [],
   "source": [
    "import cv2"
   ]
  },
  {
   "cell_type": "code",
   "execution_count": 3,
   "metadata": {},
   "outputs": [],
   "source": [
    "def load_image_with_cv2(path, mode = 'rgb'):\n",
    "    if mode=='grayscale':\n",
    "        image = cv2.cvtColor(cv2.imread(path), cv2.COLOR_BGR2GRAY)\n",
    "    else:\n",
    "        image = cv2.imread(path)\n",
    "    return image"
   ]
  },
  {
   "cell_type": "code",
   "execution_count": 4,
   "metadata": {},
   "outputs": [],
   "source": [
    "image = load_image_with_cv2('./image/test.jpg', mode='grayscale')"
   ]
  },
  {
   "cell_type": "code",
   "execution_count": 5,
   "metadata": {},
   "outputs": [],
   "source": [
    "cv2.imshow('image', image)\n",
    "cv2.waitKey(0)\n",
    "cv2.destroyAllWindows()"
   ]
  },
  {
   "cell_type": "code",
   "execution_count": 6,
   "metadata": {},
   "outputs": [],
   "source": [
    "from pytesseract import pytesseract\n",
    "\n",
    "def run_pytesseract(image, path_engine, config= '-l eng'):\n",
    "    pytesseract.tesseract_cmd = path_engine\n",
    "    result = pytesseract.image_to_string(image, config=config)\n",
    "    return result"
   ]
  },
  {
   "cell_type": "code",
   "execution_count": 7,
   "metadata": {},
   "outputs": [
    {
     "data": {
      "text/plain": [
       "'Wwivri\\n\\naee\\n\\nIGA 5G Wave2 2A1B\\n\\n>> KT G\\n\\nPW >> 8hg79eh832\\n\\n        \\n \\n\\nOlSGnAMg!\\n\\nOlu\\nfal'"
      ]
     },
     "execution_count": 7,
     "metadata": {},
     "output_type": "execute_result"
    }
   ],
   "source": [
    "path_engine = r\"C:\\Program Files\\Tesseract-OCR\\tesseract.exe\"\n",
    "run_pytesseract(image, path_engine)"
   ]
  },
  {
   "cell_type": "code",
   "execution_count": 8,
   "metadata": {},
   "outputs": [],
   "source": [
    "def mapping_function(value,bottom=77,top=157):\n",
    "    if value < bottom:\n",
    "        return 0\n",
    "    elif value > top: \n",
    "        return 255\n",
    "    else:\n",
    "        return int(255*((value-bottom)/(top-bottom)))"
   ]
  },
  {
   "cell_type": "code",
   "execution_count": 9,
   "metadata": {},
   "outputs": [
    {
     "data": {
      "text/plain": [
       "array([[ 95,  89,  96, ..., 129, 133, 137],\n",
       "       [ 98,  91,  97, ..., 131, 133, 136],\n",
       "       [ 99,  92,  96, ..., 133, 133, 134],\n",
       "       ...,\n",
       "       [ 76,  78,  79, ...,  54,  58,  58],\n",
       "       [ 78,  78,  79, ...,  56,  59,  57],\n",
       "       [ 80,  79,  78, ...,  63,  66,  64]], dtype=uint8)"
      ]
     },
     "execution_count": 9,
     "metadata": {},
     "output_type": "execute_result"
    }
   ],
   "source": [
    "image"
   ]
  },
  {
   "cell_type": "code",
   "execution_count": 10,
   "metadata": {},
   "outputs": [],
   "source": [
    "import numpy as np\n",
    "\n",
    "image = [[mapping_function(i) for i in line] for line in image]\n",
    "image = np.array(image, dtype=np.uint8)"
   ]
  },
  {
   "cell_type": "code",
   "execution_count": 14,
   "metadata": {},
   "outputs": [],
   "source": [
    "cv2.imshow('image', image)\n",
    "cv2.waitKey(0)\n",
    "cv2.destroyAllWindows()"
   ]
  },
  {
   "cell_type": "code",
   "execution_count": 12,
   "metadata": {},
   "outputs": [
    {
     "data": {
      "text/plain": [
       "'wi-ri >> KT_GiGA_5G Wave2_2A1B\\nPW >> 8hg79eh832'"
      ]
     },
     "execution_count": 12,
     "metadata": {},
     "output_type": "execute_result"
    }
   ],
   "source": [
    "run_pytesseract(image, path_engine, config='-l eng+kor')"
   ]
  },
  {
   "cell_type": "code",
   "execution_count": 13,
   "metadata": {},
   "outputs": [
    {
     "data": {
      "text/plain": [
       "'=~\\n\\nwi-ri >> KT_GiGA 5G Wave2 2A1B\\n\\nPW >> 8hg79eh832\\n\\nf |\\n\\n필 요 하 신 스 트 로 우 , 냄 퀸\\n\\n1 |\\n\\n이 곳 을 이용해\\n\\n수 세 요 !\\n\\nSS —'"
      ]
     },
     "execution_count": 13,
     "metadata": {},
     "output_type": "execute_result"
    }
   ],
   "source": [
    "run_pytesseract(image, path_engine, config='-l eng+kor --oem 1 --psm 11')"
   ]
  }
 ],
 "metadata": {
  "kernelspec": {
   "display_name": "env1",
   "language": "python",
   "name": "env1"
  },
  "language_info": {
   "codemirror_mode": {
    "name": "ipython",
    "version": 3
   },
   "file_extension": ".py",
   "mimetype": "text/x-python",
   "name": "python",
   "nbconvert_exporter": "python",
   "pygments_lexer": "ipython3",
   "version": "3.6.10"
  }
 },
 "nbformat": 4,
 "nbformat_minor": 4
}
